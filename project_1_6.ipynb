{
 "cells": [
  {
   "cell_type": "markdown",
   "id": "cd11da2a",
   "metadata": {},
   "source": [
    "# Project 1, Part 6, Identifying Best Customers\n"
   ]
  },
  {
   "cell_type": "markdown",
   "id": "701f1c25",
   "metadata": {},
   "source": [
    "# 1.6 Ideas on how the sales data can be used to help identify best customers\n",
    "\n",
    "The data science team would like to know your best ideas on how the sales data can be used to help identify the company's best customers.\n",
    "\n",
    "\n",
    "\n",
    "They are going to start with the most common and most basic model known as RFM, which consists of the 3 dimensions.\n",
    "\n",
    "* R - Recency - How recently did the customer purchase?\n",
    "\n",
    "* F - Frequency - How often do they purchase?\n",
    "\n",
    "* M - Monetary Value - How much do they spend?\n",
    "\n",
    "\n",
    "\n",
    "At first glance, it's pretty easy to think of a simple query for each dimension.\n",
    "\n",
    "However, after some thought, it's not quite so easy. It's very open ended, with a lot of grey areas, and no single right or wrong answer (just like 99% of data science and AI!)  For each dimension, there can be some pretty complex ways to determine.\n",
    "\n",
    "The data science team also has to come up with a way to synthesize the 3 dimensions into a single customer value for each customer.\n",
    "\n",
    "\n",
    "\n",
    "The data science team would like for you to present your ideas in the form of a title and 4 paragraphs as follows:\n",
    "\n",
    "* Title - A title describing what you will be explaining\n",
    "\n",
    "* Recency - A brief paragraph explaining your ideas on how the data can be used to determine recency.  \n",
    "\n",
    "* Frequency - A brief paragraph explaining your ideas on how the data can be used to determine frequency.\n",
    "\n",
    "* Monetary Value - A brief paragraph explaining your ideas on how the data can be used to determine monetary value.\n",
    "\n",
    "* Synthesis - A brief paragraph explaining your ideas on how to synthesize the 3 dimensions of recency, frequency, and monetary value into a customer value for each customer and how to determine who the best customers are.\n",
    "\n",
    "\n",
    "\n",
    "Put the title and all 4 paragraphs in a single markdown cell.\n",
    "\n",
    "Note that you do not write code for this, only english language descriptions of your ideas.\n",
    "\n"
   ]
  },
  {
   "cell_type": "markdown",
   "id": "67dd986f",
   "metadata": {},
   "source": [
    "# Understanding & Evaluating Customer Value to Target the Best; using Analysis of Recency, Frequency, and Monetary Value (RFM)\n",
    "\n",
    "Recency is determined as how long-ago a given customer’s latest purchase occurred. The dataset can be used to determine recency by subtracting each customer’s most recent purchase (given it exists) from the current date to yield a number of days. To further evaluate recency, a “scoring method” can be established. An initial pass at a scoring method would be to give the same score to all customers who have made a purchase in the past week and a different lesser score to those who had only purchased in the past two-weeks, etc. Also, we could determine the median of all customer receny values and then individually compare each customer to the median to assign a “score”. More nuanced, would be to derive a weighted score in a linear fashion or normal distribution/bell curve etc. depending on the best fit revealed by the data. \n",
    "\n",
    "Looking at frequency, it can generally be defined as the number of purchase instances made by a customer a given time frame. From our dataset, frequency can be determined by using the number of purchase instances per customer and dividing it by the range of days between their oldest purchase and the current date. Also, the frequency over a pre-determined time range can be considered; for example, the “# of purchases per the past 365 days” or “…per the past 6-months” etc. Similar to the methods outlined in the recency paragraph, a score could then be assigned to each customer’s frequency value through a linear determination or another distribution that may better fit the data. \n",
    "\n",
    "A starting point to determine monetary value from the data would be to sum the total amount spent by each customer across the entire dataset. Furthermore, different spending values of each customer or “monetary values” could be calculated over the past year, over the past 6-months, and over the past month etc. Of course, maximizing monetary value per customer is an important driver of revenue for the company, but alone it does not tell the whole story to evaluate the value of a given customer. \n",
    "\n",
    "Bringing the three factors of recency, frequency, and monetary value together, the team can create a synthesized value which will best assess a customer. For instance, this synthesized value would normalize based on amount and time period, and place an emphasis weighting on the period since the most recent purchase (recency)—to indicate a currently active shopper. The team could then compare a customer who spends $49 per week to one that spends $7 per day and so forth (for instance, the value of monetary value alone would be unable to differentiate these customers). Normalizing the differing time gaps between purchases by each customer could best be done by determining a present value of all the customer’s spending activity using the company’s internal discount rate. Additionally in our synthesis analysis, the recency value provides an important insight to allow us to target marketing efforts to those we know for certain are active shoppers with us. Outside of RFM, it is important to consider the distance that the customer lives from their nearest store. For example, a customer who travels many miles to purchase with us compared to one that only is coming from a few blocks away can identify insights. For instance, customer targets for growth and those that are most loyal to our brand—if two given customers have similar spending habits but one lives extremely close by, it is possible that one shopper only is coming out of convenience while the other is going out of their way since they value their experience here more than at other locations. Also, identifying the best new store locations can be evaluated with this method. With these thoughts, we can best determine a ranking system for our customer base and target marketing techniques accordingly. \n"
   ]
  },
  {
   "cell_type": "code",
   "execution_count": null,
   "id": "c4e9b7c3",
   "metadata": {},
   "outputs": [],
   "source": []
  }
 ],
 "metadata": {
  "kernelspec": {
   "display_name": "Python 3 (ipykernel)",
   "language": "python",
   "name": "python3"
  },
  "language_info": {
   "codemirror_mode": {
    "name": "ipython",
    "version": 3
   },
   "file_extension": ".py",
   "mimetype": "text/x-python",
   "name": "python",
   "nbconvert_exporter": "python",
   "pygments_lexer": "ipython3",
   "version": "3.9.7"
  }
 },
 "nbformat": 4,
 "nbformat_minor": 5
}
