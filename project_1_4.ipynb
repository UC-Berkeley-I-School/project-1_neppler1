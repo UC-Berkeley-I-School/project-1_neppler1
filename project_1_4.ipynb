{
 "cells": [
  {
   "cell_type": "markdown",
   "id": "cd11da2a",
   "metadata": {},
   "source": [
    "# Project 1, Part 4, Holiday Related Query\n",
    "\n"
   ]
  },
  {
   "cell_type": "markdown",
   "id": "b052db7c",
   "metadata": {},
   "source": [
    "# Included Modules and Packages\n",
    "\n",
    "Code cell containing your includes for modules and packages"
   ]
  },
  {
   "cell_type": "code",
   "execution_count": null,
   "id": "a400eec0",
   "metadata": {},
   "outputs": [],
   "source": [
    "import math\n",
    "import numpy as np\n",
    "import pandas as pd\n",
    "\n",
    "import psycopg2"
   ]
  },
  {
   "cell_type": "markdown",
   "id": "d954ac75",
   "metadata": {},
   "source": [
    "# Supporting code\n",
    "\n",
    "Code cells containing any supporting code, such as connecting to the database, any functions, etc.  Remember you can use any code from the labs."
   ]
  },
  {
   "cell_type": "code",
   "execution_count": null,
   "id": "8fa124e7",
   "metadata": {},
   "outputs": [],
   "source": [
    "#\n",
    "# function to run a select query and return rows in a pandas dataframe\n",
    "# pandas puts all numeric values from postgres to float\n",
    "# if it will fit in an integer, change it to integer\n",
    "#\n",
    "\n",
    "def my_select_query_pandas(query, rollback_before_flag, rollback_after_flag):\n",
    "    \"function to run a select query and return rows in a pandas dataframe\"\n",
    "    \n",
    "    if rollback_before_flag:\n",
    "        connection.rollback()\n",
    "    \n",
    "    df = pd.read_sql_query(query, connection)\n",
    "    \n",
    "    if rollback_after_flag:\n",
    "        connection.rollback()\n",
    "    \n",
    "    # fix the float columns that really should be integers\n",
    "    \n",
    "    for column in df:\n",
    "    \n",
    "        if df[column].dtype == \"float64\":\n",
    "\n",
    "            fraction_flag = False\n",
    "\n",
    "            for value in df[column].values:\n",
    "                \n",
    "                if not np.isnan(value):\n",
    "                    if value - math.floor(value) != 0:\n",
    "                        fraction_flag = True\n",
    "\n",
    "            if not fraction_flag:\n",
    "                df[column] = df[column].astype('Int64')\n",
    "    \n",
    "    return(df)\n",
    "    "
   ]
  },
  {
   "cell_type": "code",
   "execution_count": null,
   "id": "c00f0670",
   "metadata": {},
   "outputs": [],
   "source": [
    "connection = psycopg2.connect(\n",
    "    user = \"postgres\",\n",
    "    password = \"ucb\",\n",
    "    host = \"postgres\",\n",
    "    port = \"5432\",\n",
    "    database = \"postgres\"\n",
    ")"
   ]
  },
  {
   "cell_type": "markdown",
   "id": "6ce7b174",
   "metadata": {},
   "source": [
    "# 1.4 Find holiday days, and days within a one week of a holiday, where the actual sales differ by more than 15% from expected sales\n",
    "\n",
    "For each day of week, find the average dollar amount of sales for that day of week. We will call this the expected sales.\n",
    "\n",
    "For each holiday in the holidays table consider days +/- 7 days from that date. We will call this the date considered.  \n",
    "\n",
    "For each date considered, note the day of week.\n",
    "\n",
    "For each date considered, sum the total dollar amount of sales for that date.  We will call this the actual sales.\n",
    "\n",
    "For each date considered, find the ratio of actual sales (for the date considered) to expected sales (for that day of week).\n",
    "\n",
    "Return dates where the ratio is less than 0.85\n",
    "\n",
    "Note that data before January 1, 2020 is not present in the database, so of course, will not be analyzed since it does not exist.\n",
    "\n",
    "Note that days where the store was closed should also be included, with 0 for the actual sales.\n",
    "\n",
    "Sort by date analyzed.\n",
    "\n",
    "You may find the following subquery helpful:\n",
    "```\n",
    "     select my_date::date\n",
    "     from generate_series('2020-01-01', '2020-12-31', '1 day'::interval) my_date\n",
    "```\n",
    "\n",
    "Write 1 and only 1 query.  Note that the query may have as many subqueries, including with clauses, as you wish.  \n",
    "\n",
    "Name column headers exactly as shown in the example below. \n",
    "\n",
    "Format data exactly as shown in the example below.\n",
    "\n",
    "Sort data exactly as shown in the example below.\n",
    "\n",
    "Ensure that when you check this Juptyer Notebook into GitHub that the query results in the Pandas dataframe are clearly visible in GitHub.\n",
    "\n",
    "The query should return 26 rows into a Pandas dataframe and should look similar to this  (note that markdown drops the trailing zero while Pandas does not - this is fine): \n",
    "\n",
    "||holiday_name|date_analyzed|day_of_week|actual_sales_dollars|expected_sales_dollars|ratio_actual_expected|\n",
    "|---|---|---|---|---|---|---|\n",
    "|0|New Year's Day|2020-01-01|Wednesday|133776|263256|0.51|\n",
    "|1|MLK Day|2020-01-17|Friday   |127092|252522|0.5|\n",
    "|2|MLK Day|2020-01-18|Saturday |135204|373490|0.36|\n",
    "|3|MLK Day|2020-01-19|Sunday   |130368|357482|0.36|\n",
    "|4|MLK Day|2020-01-20|Monday   |130740|253225|0.52|\n",
    "|5|President's Day|2020-02-14|Friday   |133452|252522|0.53|\n",
    "|6|President's Day|2020-02-15|Saturday |132096|373490|0.35|\n",
    "|7|President's Day|2020-02-16|Sunday   |132180|357482|0.37|\n",
    "|8|President's Day|2020-02-17|Monday   |135228|253225|0.53|\n",
    "|9|Easter|2020-04-12|Sunday   |136164|357482|0.38|\n",
    "|10|Mother's Day|2020-05-10|Sunday   |134496|357482|0.38|\n",
    "|11|Memorial Day|2020-05-22|Friday   |129132|252522|0.51|\n",
    "|12|Memorial Day|2020-05-23|Saturday |132900|373490|0.36|\n",
    "|13|Memorial Day|2020-05-24|Sunday   |130764|357482|0.37|\n",
    "|14|Memorial Day|2020-05-25|Monday   |132624|253225|0.52|\n",
    "|15|Father's Day|2020-06-21|Sunday   |135120|357482|0.38|\n",
    "|16|Independence Day|2020-07-03|Friday   |132960|252522|0.53|\n",
    "|17|Independence Day|2020-07-04|Saturday |134952|373490|0.36|\n",
    "|18|Independence Day|2020-07-05|Sunday   |133884|357482|0.37|\n",
    "|19|Independence Day|2020-07-06|Monday   |134964|253225|0.53|\n",
    "|20|Labor Day|2020-09-04|Friday   |132048|252522|0.52|\n",
    "|21|Labor Day|2020-09-05|Saturday |132840|373490|0.36|\n",
    "|22|Labor Day|2020-09-06|Sunday   |133332|357482|0.37|\n",
    "|23|Labor Day|2020-09-07|Monday   |130020|253225|0.51|\n",
    "|24|Thanksgiving|2020-11-26|Thursday |0|266051|0.0|\n",
    "|25|Christmas|2020-12-25|Friday   |0|252522|0.0|\n",
    "\n"
   ]
  },
  {
   "cell_type": "code",
   "execution_count": null,
   "id": "dbc31d24",
   "metadata": {},
   "outputs": [],
   "source": [
    "rollback_before_flag = True\n",
    "rollback_after_flag = True\n",
    "\n",
    "query = \"\"\"\n",
    "\n",
    "Replace this with your query\n",
    "\n",
    "\"\"\"\n",
    "\n",
    "df = my_select_query_pandas(query, rollback_before_flag, rollback_after_flag)\n",
    "df"
   ]
  },
  {
   "cell_type": "code",
   "execution_count": null,
   "id": "473edcd9",
   "metadata": {},
   "outputs": [],
   "source": []
  }
 ],
 "metadata": {
  "kernelspec": {
   "display_name": "Python 3",
   "language": "python",
   "name": "python3"
  },
  "language_info": {
   "codemirror_mode": {
    "name": "ipython",
    "version": 3
   },
   "file_extension": ".py",
   "mimetype": "text/x-python",
   "name": "python",
   "nbconvert_exporter": "python",
   "pygments_lexer": "ipython3",
   "version": "3.8.8"
  }
 },
 "nbformat": 4,
 "nbformat_minor": 5
}
