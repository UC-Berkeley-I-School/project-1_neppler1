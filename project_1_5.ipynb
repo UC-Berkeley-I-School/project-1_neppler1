{
 "cells": [
  {
   "cell_type": "markdown",
   "id": "cd11da2a",
   "metadata": {},
   "source": [
    "# Project 1, Part 5, Data Visualization\n",
    "\n"
   ]
  },
  {
   "cell_type": "markdown",
   "id": "b052db7c",
   "metadata": {},
   "source": [
    "# Included Modules and Packages\n",
    "\n",
    "Code cell containing your includes for modules and packages"
   ]
  },
  {
   "cell_type": "code",
   "execution_count": null,
   "id": "a400eec0",
   "metadata": {},
   "outputs": [],
   "source": [
    "import math\n",
    "import numpy as np\n",
    "import pandas as pd\n",
    "\n",
    "import psycopg2"
   ]
  },
  {
   "cell_type": "markdown",
   "id": "d954ac75",
   "metadata": {},
   "source": [
    "# Supporting code\n",
    "\n",
    "Code cells containing any supporting code, such as connecting to the database, any functions, etc.  Remember you can use any code from the labs."
   ]
  },
  {
   "cell_type": "code",
   "execution_count": null,
   "id": "8fa124e7",
   "metadata": {},
   "outputs": [],
   "source": [
    "#\n",
    "# function to run a select query and return rows in a pandas dataframe\n",
    "# pandas puts all numeric values from postgres to float\n",
    "# if it will fit in an integer, change it to integer\n",
    "#\n",
    "\n",
    "def my_select_query_pandas(query, rollback_before_flag, rollback_after_flag):\n",
    "    \"function to run a select query and return rows in a pandas dataframe\"\n",
    "    \n",
    "    if rollback_before_flag:\n",
    "        connection.rollback()\n",
    "    \n",
    "    df = pd.read_sql_query(query, connection)\n",
    "    \n",
    "    if rollback_after_flag:\n",
    "        connection.rollback()\n",
    "    \n",
    "    # fix the float columns that really should be integers\n",
    "    \n",
    "    for column in df:\n",
    "    \n",
    "        if df[column].dtype == \"float64\":\n",
    "\n",
    "            fraction_flag = False\n",
    "\n",
    "            for value in df[column].values:\n",
    "                \n",
    "                if not np.isnan(value):\n",
    "                    if value - math.floor(value) != 0:\n",
    "                        fraction_flag = True\n",
    "\n",
    "            if not fraction_flag:\n",
    "                df[column] = df[column].astype('Int64')\n",
    "    \n",
    "    return(df)\n",
    "    "
   ]
  },
  {
   "cell_type": "code",
   "execution_count": null,
   "id": "c00f0670",
   "metadata": {},
   "outputs": [],
   "source": [
    "connection = psycopg2.connect(\n",
    "    user = \"postgres\",\n",
    "    password = \"ucb\",\n",
    "    host = \"postgres\",\n",
    "    port = \"5432\",\n",
    "    database = \"postgres\"\n",
    ")"
   ]
  },
  {
   "cell_type": "markdown",
   "id": "649af216",
   "metadata": {},
   "source": [
    "# 1.5 Example of a Data Visualization created using Python\n",
    "\n",
    "The data science team would like for you to create an example of a data visualization using Python from data in a Pandas dataframe containing data from an SQL query.\n",
    "\n",
    "Write 1 and only 1 query.  Note that the query may have as many subqueries, including with clauses, as you wish. \n",
    "\n",
    "Once you have the data in a Pandas dataframe, you may write as much Python code as you wish to produce the data visualization.\n",
    "\n",
    "You may only use Python modules that are currently installed in the Anaconda Docker container.  You may not install additional modules or any other software.\n",
    "\n",
    "All work must be done in Docker in your VM in AWS.  You may not use any external data visualization systems, such as Tableau, etc.\n",
    "\n",
    "You may use any code from the labs to pattern your code after, however for the data visualization, you cannot wholesale copy a data visualization from the labs.\n",
    "\n",
    "Ensure that it is properly titled, including titles for axes if present.\n",
    "\n",
    "Ensure that when you check this Juptyer Notebook into GitHub that the query results in the Pandas dataframe are clearly visible  and that the data visualization is clearly visible.\n",
    "\n"
   ]
  },
  {
   "cell_type": "code",
   "execution_count": null,
   "id": "dbc31d24",
   "metadata": {},
   "outputs": [],
   "source": [
    "rollback_before_flag = True\n",
    "rollback_after_flag = True\n",
    "\n",
    "query = \"\"\"\n",
    "\n",
    "Replace this with your query\n",
    "\n",
    "\"\"\"\n",
    "\n",
    "df = my_select_query_pandas(query, rollback_before_flag, rollback_after_flag)\n",
    "df"
   ]
  },
  {
   "cell_type": "code",
   "execution_count": null,
   "id": "30a3c59e",
   "metadata": {},
   "outputs": [],
   "source": []
  }
 ],
 "metadata": {
  "kernelspec": {
   "display_name": "Python 3",
   "language": "python",
   "name": "python3"
  },
  "language_info": {
   "codemirror_mode": {
    "name": "ipython",
    "version": 3
   },
   "file_extension": ".py",
   "mimetype": "text/x-python",
   "name": "python",
   "nbconvert_exporter": "python",
   "pygments_lexer": "ipython3",
   "version": "3.8.8"
  }
 },
 "nbformat": 4,
 "nbformat_minor": 5
}
